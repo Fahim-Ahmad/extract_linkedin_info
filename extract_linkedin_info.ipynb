{
 "cells": [
  {
   "attachments": {},
   "cell_type": "markdown",
   "metadata": {},
   "source": [
    "## Python script to extract information from LinkedIn"
   ]
  },
  {
   "attachments": {},
   "cell_type": "markdown",
   "metadata": {},
   "source": [
    "## Install / Import required libraries"
   ]
  },
  {
   "cell_type": "code",
   "execution_count": 1,
   "metadata": {},
   "outputs": [],
   "source": [
    "from linkedin_api import Linkedin\n",
    "import pandas as pd\n",
    "from datetime import date"
   ]
  },
  {
   "attachments": {},
   "cell_type": "markdown",
   "metadata": {},
   "source": [
    "## Connect with the linkedin api"
   ]
  },
  {
   "cell_type": "code",
   "execution_count": 6,
   "metadata": {},
   "outputs": [],
   "source": [
    "api = Linkedin('enter-your-emal', 'enter-your-password')"
   ]
  },
  {
   "attachments": {},
   "cell_type": "markdown",
   "metadata": {},
   "source": [
    "## Fetch required elements / parameters"
   ]
  },
  {
   "attachments": {},
   "cell_type": "markdown",
   "metadata": {},
   "source": [
    "### Profile info"
   ]
  },
  {
   "cell_type": "code",
   "execution_count": 171,
   "metadata": {},
   "outputs": [
    {
     "data": {
      "text/plain": [
       "{'name': 'Fahim Ahmad',\n",
       " 'headline': 'Quantitative Data Expert',\n",
       " 'summary': 'An aspiring Data Scientist with a Master of Arts (M.A.) focused in Economics and demonstrated history of working in the multi-cultural international organizations. Skilled in Data Analysis and Social Survey & Research. Currently studying IT / Web Technology at Hannover University of Applied Sciences and Arts, and Computer & Data Science at MIT Emerging Talent / MIT ReACT.',\n",
       " 'industry_name': 'Research'}"
      ]
     },
     "execution_count": 171,
     "metadata": {},
     "output_type": "execute_result"
    }
   ],
   "source": [
    "profile_id = 'fahimyousufzai'\n",
    "profile = api.get_profile(profile_id)\n",
    "\n",
    "profile_info = {\n",
    "    'name': f\"{profile['firstName'] if 'firstName' in profile else None} {profile['lastName'] if 'lastName' in profile else ''}\",\n",
    "    'headline': profile['headline'] if 'headline' in profile else None,\n",
    "    'summary' : profile['summary'] if 'summary' in profile else None,\n",
    "    'industry_name': profile['industryName'] if 'industryName' in profile else None\n",
    "}\n",
    "\n",
    "profile_info"
   ]
  },
  {
   "cell_type": "code",
   "execution_count": 89,
   "metadata": {},
   "outputs": [],
   "source": [
    "# profile_info = {\n",
    "#     'name': f\"{profile['firstName']} {profile['lastName']}\",\n",
    "#     'headline': profile['headline'],\n",
    "#     'summary' : profile['summary'],\n",
    "#     'industry_name': profile['industryName']\n",
    "# }\n",
    "\n",
    "# profile_info"
   ]
  },
  {
   "attachments": {},
   "cell_type": "markdown",
   "metadata": {},
   "source": [
    "### Skills"
   ]
  },
  {
   "cell_type": "code",
   "execution_count": 172,
   "metadata": {},
   "outputs": [
    {
     "data": {
      "text/plain": [
       "['GitHub',\n",
       " 'Git',\n",
       " 'Natural Language Processing (NLP)',\n",
       " 'CSS',\n",
       " 'JavaScript',\n",
       " 'HTML5',\n",
       " 'Statistics',\n",
       " 'Machine Learning',\n",
       " 'Python (Programming Language)',\n",
       " 'SQL',\n",
       " 'Data Analysis',\n",
       " 'Quantitative Research',\n",
       " 'Research',\n",
       " 'R']"
      ]
     },
     "execution_count": 172,
     "metadata": {},
     "output_type": "execute_result"
    }
   ],
   "source": [
    "skills = api._fetch(f\"/identity/profiles/{profile_id}/skills\").json().get('elements', [])\n",
    "skill_names = [i['name'] if 'name' in i else '' for i in skills]\n",
    "skill_names"
   ]
  },
  {
   "cell_type": "code",
   "execution_count": 96,
   "metadata": {},
   "outputs": [],
   "source": [
    "# skill_names = [i['name'] for i in skills]\n",
    "# skill_names"
   ]
  },
  {
   "attachments": {},
   "cell_type": "markdown",
   "metadata": {},
   "source": [
    "### Education"
   ]
  },
  {
   "cell_type": "code",
   "execution_count": 173,
   "metadata": {},
   "outputs": [
    {
     "data": {
      "text/plain": [
       "[{'degreeName': 'Computer and Data Science',\n",
       "  'schoolName': 'Massachusetts Institute of Technology',\n",
       "  'startYear': 2023,\n",
       "  'endYear': 2024},\n",
       " {'degreeName': 'IT expert data science / web technology',\n",
       "  'schoolName': 'Hochschule Hannover',\n",
       "  'startYear': 2023,\n",
       "  'endYear': 2024},\n",
       " {'degreeName': 'Master of Arts (M.A.)',\n",
       "  'schoolName': 'Kabul University',\n",
       "  'startYear': 2015,\n",
       "  'endYear': 2016},\n",
       " {'degreeName': 'Bachelor of Arts (B.A.)',\n",
       "  'schoolName': 'Kabul University',\n",
       "  'startYear': 2010,\n",
       "  'endYear': 2013}]"
      ]
     },
     "execution_count": 173,
     "metadata": {},
     "output_type": "execute_result"
    }
   ],
   "source": [
    "educations = api._fetch(f\"/identity/profiles/{profile_id}/educations\").json().get('elements', [])\n",
    "\n",
    "education = [{\n",
    "    'degreeName': [i['degreeName'] if 'degreeName' in i else None for i in educations][n],\n",
    "    'schoolName': [i['schoolName'] if 'schoolName' in i else None for i in educations][n],\n",
    "    'startYear': [i['timePeriod']['startDate']['year'] if 'startDate' in i['timePeriod'] else None for i in educations][n],\n",
    "    'endYear': [i['timePeriod']['endDate']['year'] if 'endDate' in i['timePeriod'] else None for i in educations][n],\n",
    "} for n in range(len(educations))]\n",
    "\n",
    "education"
   ]
  },
  {
   "cell_type": "code",
   "execution_count": 152,
   "metadata": {},
   "outputs": [],
   "source": [
    "# education = [{\n",
    "#     'degreeName': [i['degreeName'] for i in educations][n],\n",
    "#     'schoolName': [i['schoolName'] for i in educations][n],\n",
    "#     'startYear': [i['timePeriod']['startDate']['year'] for i in educations][n],\n",
    "#     'endYear': [i['timePeriod']['endDate']['year'] for i in educations][n],\n",
    "# } for n in range(len(educations))]\n",
    "\n",
    "# education"
   ]
  },
  {
   "cell_type": "code",
   "execution_count": 153,
   "metadata": {},
   "outputs": [],
   "source": [
    "# Certifications\n",
    "# certifications = api._fetch(f\"/identity/profiles/{profile_id}/certifications\").json().get('elements', [])"
   ]
  },
  {
   "attachments": {},
   "cell_type": "markdown",
   "metadata": {},
   "source": [
    "### Experience"
   ]
  },
  {
   "cell_type": "code",
   "execution_count": 174,
   "metadata": {},
   "outputs": [
    {
     "data": {
      "text/plain": [
       "[{'title': 'Quantitative Data Expert',\n",
       "  'companyName': 'Assess Transform Reach (ATR) Consulting',\n",
       "  'startYear': 2020,\n",
       "  'endYear': 2022},\n",
       " {'title': 'Research Consultant',\n",
       "  'companyName': \"Afghan Women's Network\",\n",
       "  'startYear': 2020,\n",
       "  'endYear': 2020},\n",
       " {'title': 'Policy and Research Senior Data Analyst',\n",
       "  'companyName': 'The Asia Foundation',\n",
       "  'startYear': 2018,\n",
       "  'endYear': 2020},\n",
       " {'title': 'Data Analyst',\n",
       "  'companyName': 'Deutsche Gesellschaft für Internationale Zusammenarbeit (GIZ) GmbH',\n",
       "  'startYear': 2018,\n",
       "  'endYear': 2019},\n",
       " {'title': 'Policy and Research Data Analyst ',\n",
       "  'companyName': 'The Asia Foundation',\n",
       "  'startYear': 2017,\n",
       "  'endYear': 2018},\n",
       " {'title': 'Data Analyst Consultant ',\n",
       "  'companyName': 'The Asia Foundation',\n",
       "  'startYear': 2015,\n",
       "  'endYear': 2017}]"
      ]
     },
     "execution_count": 174,
     "metadata": {},
     "output_type": "execute_result"
    }
   ],
   "source": [
    "experiences = api._fetch(f\"/identity/profiles/{profile_id}/positions\").json().get('elements', [])\n",
    "\n",
    "experience = [{\n",
    "    'title': [i['title'] if 'title' in i else None for i in experiences][n],\n",
    "    'companyName': [i['companyName'] if 'companyName' in i else None for i in experiences][n],\n",
    "    'startYear': [i['timePeriod']['startDate']['year'] if 'startDate' in i['timePeriod'] else None for i in experiences][n],\n",
    "    'endYear': [i['timePeriod']['endDate']['year'] if 'endDate' in i['timePeriod'] else 'Present' for i in experiences][n],\n",
    "} for n in range(len(experiences))]\n",
    "\n",
    "experience"
   ]
  },
  {
   "cell_type": "code",
   "execution_count": 156,
   "metadata": {},
   "outputs": [],
   "source": [
    "# experience = [{\n",
    "#     'title': [i['title'] for i in experiences][n],\n",
    "#     'companyName': [i['companyName'] for i in experiences][n],\n",
    "#     'startYear': [i['timePeriod']['startDate']['year'] for i in experiences][n],\n",
    "#     'endYear': [i['timePeriod']['endDate']['year'] for i in experiences][n],\n",
    "# } for n in range(len(experiences))]\n",
    "\n",
    "# experience"
   ]
  },
  {
   "attachments": {},
   "cell_type": "markdown",
   "metadata": {},
   "source": [
    "### Export the data"
   ]
  },
  {
   "cell_type": "code",
   "execution_count": 175,
   "metadata": {},
   "outputs": [],
   "source": [
    "linkedin_info = {\n",
    "    'profile_info': profile_info,\n",
    "    'skills': skill_names,\n",
    "    'educations': education,\n",
    "    'experiences': experience\n",
    "}\n",
    "\n",
    "df = pd.DataFrame([linkedin_info])\n",
    "df.to_csv(f\"output/linkedin_info-{date.today()}.csv\")"
   ]
  },
  {
   "attachments": {},
   "cell_type": "markdown",
   "metadata": {},
   "source": [
    "## Custome function to extract information from one or more than one linkedin profiles"
   ]
  },
  {
   "cell_type": "code",
   "execution_count": 7,
   "metadata": {},
   "outputs": [],
   "source": [
    "def fetch_linkedin_info(profile_ids):\n",
    "    linkedin_info = {}\n",
    "    \n",
    "    for profile_id in profile_ids:\n",
    "        \n",
    "        profile = api.get_profile(profile_id)\n",
    "        profile_info = {\n",
    "            'name': f\"{profile['firstName'] if 'firstName' in profile else None} {profile['lastName'] if 'lastName' in profile else ''}\",\n",
    "            'headline': profile['headline'] if 'headline' in profile else None,\n",
    "            'summary' : profile['summary'] if 'summary' in profile else None,\n",
    "            'industry_name': profile['industryName'] if 'industryName' in profile else None\n",
    "        }\n",
    "\n",
    "        skills = api._fetch(f\"/identity/profiles/{profile_id}/skills\").json().get('elements', [])\n",
    "        skill_names = [i['name'] if 'name' in i else '' for i in skills]\n",
    "\n",
    "        educations = api._fetch(f\"/identity/profiles/{profile_id}/educations\").json().get('elements', [])\n",
    "        education = [{\n",
    "            'degreeName': [i['degreeName'] if 'degreeName' in i else None for i in educations][n],\n",
    "            'schoolName': [i['schoolName'] if 'schoolName' in i else None for i in educations][n],\n",
    "            'startYear': [i['timePeriod']['startDate']['year'] if 'startDate' in i['timePeriod'] else None for i in educations][n],\n",
    "            'endYear': [i['timePeriod']['endDate']['year'] if 'endDate' in i['timePeriod'] else None for i in educations][n],\n",
    "        } for n in range(len(educations))]\n",
    "\n",
    "        experiences = api._fetch(f\"/identity/profiles/{profile_id}/positions\").json().get('elements', [])\n",
    "        experience = [{\n",
    "            'title': [i['title'] if 'title' in i else None for i in experiences][n],\n",
    "            'companyName': [i['companyName'] if 'companyName' in i else None for i in experiences][n],\n",
    "            'startYear': [i['timePeriod']['startDate']['year'] if 'startDate' in i['timePeriod'] else None for i in experiences][n],\n",
    "            'endYear': [i['timePeriod']['endDate']['year'] if 'endDate' in i['timePeriod'] else 'Present' for i in experiences][n],\n",
    "        } for n in range(len(experiences))]\n",
    "\n",
    "        linkedin_info[profile_id] = {\n",
    "                'profile_info': profile_info,\n",
    "                'skills': skill_names,\n",
    "                'educations': education,\n",
    "                'experiences': experience\n",
    "            }\n",
    "\n",
    "    return linkedin_info"
   ]
  },
  {
   "cell_type": "code",
   "execution_count": 212,
   "metadata": {},
   "outputs": [],
   "source": [
    "linkedin_info = fetch_linkedin_info(['layan-bekai', 'muhaddesa-noori-534579155', 'adla-abousteiti', 'mohammedalasli', 'fahimyousufzai'])"
   ]
  },
  {
   "cell_type": "code",
   "execution_count": 213,
   "metadata": {},
   "outputs": [],
   "source": [
    "df = pd.DataFrame.from_dict(linkedin_info, orient='index')\n",
    "df.to_csv(f\"output/linkedin_info_all-{date.today()}.csv\", index_label='profile_id')"
   ]
  },
  {
   "cell_type": "code",
   "execution_count": 219,
   "metadata": {},
   "outputs": [],
   "source": [
    "# linkedin_info['layan-bekai']\n",
    "# linkedin_info['muhaddesa-noori-534579155']\n",
    "# linkedin_info['adla-abousteiti']\n",
    "# linkedin_info['mohammedalasli']\n",
    "# linkedin_info['fahimyousufzai']"
   ]
  },
  {
   "cell_type": "code",
   "execution_count": 220,
   "metadata": {},
   "outputs": [],
   "source": [
    "del api"
   ]
  }
 ],
 "metadata": {
  "kernelspec": {
   "display_name": "base",
   "language": "python",
   "name": "python3"
  },
  "language_info": {
   "codemirror_mode": {
    "name": "ipython",
    "version": 3
   },
   "file_extension": ".py",
   "mimetype": "text/x-python",
   "name": "python",
   "nbconvert_exporter": "python",
   "pygments_lexer": "ipython3",
   "version": "3.11.4"
  },
  "orig_nbformat": 4
 },
 "nbformat": 4,
 "nbformat_minor": 2
}
